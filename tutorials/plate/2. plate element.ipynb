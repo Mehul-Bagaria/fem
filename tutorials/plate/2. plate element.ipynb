{
 "cells": [
  {
   "cell_type": "markdown",
   "metadata": {},
   "source": [
    "# 2. Plate Element"
   ]
  },
  {
   "cell_type": "markdown",
   "metadata": {},
   "source": [
    "This study will give an introductory idea about the usage of 2D plate bending elements in the context of FEM. This will be beneficial in meshing and analyzing surface and solid structures idealized as plates. \n",
    "\n",
    "\n",
    "Students with a basic background of Mechanics of Solids and Finite Element Methods can use this study to develop their understanding of the use of plate elements in FEM. This chapter will comprise a brief of the following topics \n",
    "\n",
    "* Theory of plate bending\n",
    "* Governing Differential Equqation of thin plate bending\n",
    "* Analytical Solution of a plate structure\n",
    "* Plate bending element in FEM\n",
    "* FEniCS impleementation of Plate bending"
   ]
  },
  {
   "cell_type": "markdown",
   "metadata": {},
   "source": [
    "### 2.1 Theory of plate bending"
   ]
  },
  {
   "cell_type": "markdown",
   "metadata": {},
   "source": [
    "Plates are structures with flat,noncurved surfaces whose thickness is usually is very less compared to lateral dimensions. Plates are generally subjected to transverse loading and they resist the loading by bending in both planar directions and through twisting. They can be considered the two-dimensional extension of a beam in simple bending. Plates provide axial and flexural rigidity and are used to design floor slabs, bridge decks, aircraft structures etc.. \n",
    "\n",
    "<!-- ![plate](plate.png) -->\n",
    "<img src=\"plate.png\" alt=\"plate\" width=\"400\"/>\n",
    "\n",
    "There are essentially 2 different schools of plate theory :\n",
    "\n",
    "1. **Classical Plate Theory (Kirchoff-Love Plate Theory)** - This theory is used to describe thin plates with small or large deformation. It doesn't consider shear deformation in plates and is thus an extension of Euler-Bernoulli beam theory to plates. \n",
    "\n",
    "\n",
    "2. **Shear Deformation Theory (Reissner-Mindlin Plate Theory)** - This theory describes thick plates (h > $\\frac{1}{10}$ th of larger dimension). As the name indicates, it consider shear deformation in plates under loading and is therefore an extension of the Timoshenko beam theory to plates. \n",
    "\n",
    "\n"
   ]
  },
  {
   "cell_type": "markdown",
   "metadata": {},
   "source": [
    "### 2.2 Kirchoff-Love thin plate\n",
    "\n",
    "Consider a slightly bent thin plate with no in-plane forces. Let $w$ be the vertical deflection of the mid-plane. If $E$ is the elasticity, $\\nu$ is the Poisson's ration, $h$ is the thickness of the plate, and $q(x,y)$ is the transverse loading distribution over the plate, then the governing differential equation of the plate is given by :\n",
    "\n",
    "\\begin{equation}\n",
    "\\begin{split}\n",
    "D\\left(\\frac{\\partial^{4} w}{\\partial x^{4}}+2 \\frac{\\partial^{4} w}{\\partial x^{2} \\partial y^{2}}+\\frac{\\partial^{4} w}{\\partial y^{4}}\\right) &= q(x, y) \\\\ \\\\ D \\nabla^{4} w &= q(x, y)\n",
    "\\end{split}\n",
    "\\end{equation}\n",
    "\n",
    "where $D = \\frac{E h^{3}}{12\\left(1-\\nu^{2}\\right)} $. The bending and twisting moments as well as forces developed in the plate are illustrated and formulated below. \n",
    "\n",
    "<img src=\"plate_bending.png\" alt=\"plate_bending\" width=\"300\"/>\n",
    "\n",
    "$$\n",
    "\\begin{aligned}\n",
    "&M_{x}=-D\\left\\{\\frac{\\partial^{2} w}{\\partial x^{2}}+v \\frac{\\partial^{2} w}{\\partial y^{2}}\\right\\} & \\frac{\\partial M_{x}}{\\partial x}+\\frac{\\partial M_{x y}}{\\partial y}=Q_{x} \\\\\n",
    "&M_{y}=-D\\left\\{\\frac{\\partial^{2} w}{\\partial y^{2}}+v \\frac{\\partial^{2} w}{\\partial x^{2}}\\right\\} & \\frac{\\partial M_{y}}{\\partial y}+\\frac{\\partial M_{y x}}{\\partial x}=Q_{y} \\\\\n",
    "&M_{x y}=-D (1-v) \\frac{\\partial^{2} w}{\\partial x \\partial y}\n",
    "\\end{aligned}\n",
    "$$"
   ]
  },
  {
   "cell_type": "markdown",
   "metadata": {},
   "source": [
    "### 2.3 Analytical solution with example\n",
    "\n",
    "Analytical/exact solutions are usually difficult to attain for plate problems unless the problem statement satisfy specific boundary conditions and the differential equations together. **Navier's** and **Levy's** are two of the most common analytical solution methods for plates. \n",
    "\n",
    "Here, we try to compute the analytical solution of a _Rectangular plate fixed at all boundaries with uniform pressure acting on the top_. The parameters are as follows :\n",
    "* $2a = 2b = 4 \\ m$ \n",
    "* $h = 10 \\ mm$\n",
    "* $q(x,y) = 6 \\ kN/m^2$\n",
    "* $\\nu = 0.3, \\ E = 2e11 \\ N/m^2 $\n",
    "<img src=\"plate_problem.png\" alt=\"plate_problem\" width=\"300\"/>\n",
    "\n"
   ]
  },
  {
   "cell_type": "code",
   "execution_count": null,
   "metadata": {},
   "outputs": [],
   "source": []
  }
 ],
 "metadata": {
  "kernelspec": {
   "display_name": "Python 3",
   "language": "python",
   "name": "python3"
  },
  "language_info": {
   "codemirror_mode": {
    "name": "ipython",
    "version": 3
   },
   "file_extension": ".py",
   "mimetype": "text/x-python",
   "name": "python",
   "nbconvert_exporter": "python",
   "pygments_lexer": "ipython3",
   "version": "3.7.6"
  }
 },
 "nbformat": 4,
 "nbformat_minor": 4
}
